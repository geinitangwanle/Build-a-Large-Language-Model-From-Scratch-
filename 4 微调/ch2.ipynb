{
 "cells": [
  {
   "cell_type": "markdown",
   "id": "c92bae3e",
   "metadata": {},
   "source": [
    "# 指令微调"
   ]
  },
  {
   "cell_type": "markdown",
   "id": "e298c766",
   "metadata": {},
   "source": []
  },
  {
   "cell_type": "markdown",
   "id": "a3ada222",
   "metadata": {},
   "source": [
    "## 下载数据集"
   ]
  },
  {
   "cell_type": "code",
   "execution_count": 8,
   "id": "0e7ab8f0",
   "metadata": {},
   "outputs": [],
   "source": [
    "import json\n",
    "import os\n",
    "import urllib\n",
    "\n",
    "def download_and_load_file(file_path, url):\n",
    "    if not os.path.exists(file_path):\n",
    "        with urllib.request.urlopen(url) as response:\n",
    "            text_data = response.read().decode(\"utf-8\")\n",
    "        with open(file_path, \"w\", encoding=\"utf-8\") as file:\n",
    "            file.write(text_data)\n",
    "    else:\n",
    "        with open(file_path, \"r\", encoding=\"utf-8\") as file:\n",
    "            data = json.load(file)\n",
    "        return data\n",
    "file_path = \"instruction-data.json\"\n",
    "url = (\"https://raw.githubusercontent.com/rasbt/LLMs-from-scratch\"\n",
    "       \"/main/ch07/01_main-chapter-code/instruction-data.json\")\n",
    "\n",
    "data = download_and_load_file(file_path, url)"
   ]
  },
  {
   "cell_type": "code",
   "execution_count": 11,
   "id": "9e8f61d1",
   "metadata": {},
   "outputs": [
    {
     "name": "stdout",
     "output_type": "stream",
     "text": [
      "amount of data:  1100\n"
     ]
    }
   ],
   "source": [
    "print(\"amount of data: \", len(data))"
   ]
  },
  {
   "cell_type": "code",
   "execution_count": 13,
   "id": "74629a2c",
   "metadata": {},
   "outputs": [
    {
     "name": "stdout",
     "output_type": "stream",
     "text": [
      "{'instruction': 'Identify the correct spelling of the following word.', 'input': 'Ocassion', 'output': \"The correct spelling is 'Occasion.'\"}\n",
      "{'instruction': \"What is an antonym of 'complicated'?\", 'input': '', 'output': \"An antonym of 'complicated' is 'simple'.\"}\n"
     ]
    }
   ],
   "source": [
    "print(data[50])\n",
    "print(data[999])"
   ]
  },
  {
   "cell_type": "code",
   "execution_count": 14,
   "id": "2d023b82",
   "metadata": {},
   "outputs": [],
   "source": [
    "def format_input(entry):\n",
    "    instruction = (\n",
    "        f\"以下是一个描述任务的指令。\\n\"\n",
    "        f\"请写出一个适当完成请求的响应\\n\\n\"\n",
    "        f\"### 指令：\\n{entry['instruction']}\"\n",
    "    )\n",
    "    input_text = (\n",
    "        f\"\\n\\n###输入:\\n{entry['input']}\" if entry['input'] else \"\"\n",
    "    )\n",
    "    return instruction + input_text"
   ]
  },
  {
   "cell_type": "code",
   "execution_count": null,
   "id": "411e71f9",
   "metadata": {},
   "outputs": [],
   "source": []
  }
 ],
 "metadata": {
  "kernelspec": {
   "display_name": "py39",
   "language": "python",
   "name": "python3"
  },
  "language_info": {
   "codemirror_mode": {
    "name": "ipython",
    "version": 3
   },
   "file_extension": ".py",
   "mimetype": "text/x-python",
   "name": "python",
   "nbconvert_exporter": "python",
   "pygments_lexer": "ipython3",
   "version": "3.9.7"
  }
 },
 "nbformat": 4,
 "nbformat_minor": 5
}
